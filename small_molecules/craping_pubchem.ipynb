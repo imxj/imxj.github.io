{
  "nbformat": 4,
  "nbformat_minor": 0,
  "metadata": {
    "colab": {
      "name": "scraping pubchem",
      "provenance": [],
      "collapsed_sections": [],
      "authorship_tag": "ABX9TyOuN5nk3YUQrQt4ILzEliCE"
    },
    "kernelspec": {
      "name": "python3",
      "display_name": "Python 3"
    },
    "language_info": {
      "name": "python"
    }
  },
  "cells": [
    {
      "cell_type": "markdown",
      "metadata": {
        "id": "U_7Vdegnp8Uo"
      },
      "source": [
        "<h1>Scraping Pubchem</h1>\n",
        "\n",
        "This colab demonstrates how to scrape the pubchem website to get the information by the compound name."
      ]
    },
    {
      "cell_type": "markdown",
      "metadata": {
        "id": "xw0O_5e8pXHj"
      },
      "source": [
        "# Import\n"
      ]
    },
    {
      "cell_type": "code",
      "metadata": {
        "id": "JdqxTkEHd3TI"
      },
      "source": [
        "from bs4 import BeautifulSoup\n",
        "from collections import defaultdict\n",
        "import json\n",
        "import pandas as pd\n",
        "import pprint\n",
        "import re\n",
        "import requests\n",
        "import urllib"
      ],
      "execution_count": 34,
      "outputs": []
    },
    {
      "cell_type": "markdown",
      "metadata": {
        "id": "N1tpDwB0px38"
      },
      "source": [
        "# Scraping"
      ]
    },
    {
      "cell_type": "code",
      "metadata": {
        "id": "NbP6u94zhFLL"
      },
      "source": [
        "compounds = ['AST-487', 'Crizotinib', 'A-674563']\n",
        "label_parent, infodata, infordata_value = 'PC-Urn_label', 'PC-InfoData', 'PC-InfoData_value_sval'\n",
        "string_elements = {'Molecular Weight', 'SMILES', 'InChI'}"
      ],
      "execution_count": 30,
      "outputs": []
    },
    {
      "cell_type": "code",
      "metadata": {
        "id": "OMQ_dLumg2P_"
      },
      "source": [
        "res = {}\n",
        "for compound in compounds:\n",
        "  val_dict = {}\n",
        "  safe_compound_name = urllib.parse.quote(compound, safe='')\n",
        "  \n",
        "  # request url to pubchem\n",
        "  data = requests.get(f'https://pubchem.ncbi.nlm.nih.gov/rest/pug/compound/name/{safe_compound_name}/xml')\n",
        "  html = BeautifulSoup(data.content, 'xml')\n",
        "  for element in string_elements:\n",
        "    tag = html.find(name=label_parent, string=element)\n",
        "    parents = tag.find_parent(infodata)\n",
        "    val = parents.find(infordata_value).string\n",
        "    val_dict[element] = val\n",
        "  res[compound] = val_dict"
      ],
      "execution_count": 32,
      "outputs": []
    },
    {
      "cell_type": "markdown",
      "metadata": {
        "id": "0i7dOUSw0jC8"
      },
      "source": [
        "## pretty print nested dictionaries"
      ]
    },
    {
      "cell_type": "code",
      "metadata": {
        "colab": {
          "base_uri": "https://localhost:8080/"
        },
        "id": "zSYacbEV0l5B",
        "outputId": "fc7b7d9f-f3f8-4137-da75-38c9454b96a7"
      },
      "source": [
        "print(json.dumps(res, indent=2))"
      ],
      "execution_count": 35,
      "outputs": [
        {
          "output_type": "stream",
          "name": "stdout",
          "text": [
            "{\n",
            "  \"AST-487\": {\n",
            "    \"SMILES\": \"CCN1CCN(CC1)CC2=C(C=C(C=C2)NC(=O)NC3=CC=C(C=C3)OC4=NC=NC(=C4)NC)C(F)(F)F\",\n",
            "    \"Molecular Weight\": \"529.6\",\n",
            "    \"InChI\": \"InChI=1S/C26H30F3N7O2/c1-3-35-10-12-36(13-11-35)16-18-4-5-20(14-22(18)26(27,28)29)34-25(37)33-19-6-8-21(9-7-19)38-24-15-23(30-2)31-17-32-24/h4-9,14-15,17H,3,10-13,16H2,1-2H3,(H,30,31,32)(H2,33,34,37)\"\n",
            "  },\n",
            "  \"Crizotinib\": {\n",
            "    \"SMILES\": \"CC(C1=C(C=CC(=C1Cl)F)Cl)OC2=C(N=CC(=C2)C3=CN(N=C3)C4CCNCC4)N\",\n",
            "    \"Molecular Weight\": \"450.3\",\n",
            "    \"InChI\": \"InChI=1S/C21H22Cl2FN5O/c1-12(19-16(22)2-3-17(24)20(19)23)30-18-8-13(9-27-21(18)25)14-10-28-29(11-14)15-4-6-26-7-5-15/h2-3,8-12,15,26H,4-7H2,1H3,(H2,25,27)/t12-/m1/s1\"\n",
            "  },\n",
            "  \"A-674563\": {\n",
            "    \"SMILES\": \"CC1=C2C=C(C=CC2=NN1)C3=CC(=CN=C3)OCC(CC4=CC=CC=C4)N\",\n",
            "    \"Molecular Weight\": \"358.4\",\n",
            "    \"InChI\": \"InChI=1S/C22H22N4O/c1-15-21-11-17(7-8-22(21)26-25-15)18-10-20(13-24-12-18)27-14-19(23)9-16-5-3-2-4-6-16/h2-8,10-13,19H,9,14,23H2,1H3,(H,25,26)/t19-/m0/s1\"\n",
            "  }\n",
            "}\n"
          ]
        }
      ]
    }
  ]
}