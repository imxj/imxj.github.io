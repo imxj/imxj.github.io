{
  "nbformat": 4,
  "nbformat_minor": 0,
  "metadata": {
    "colab": {
      "name": "scraping pubchem",
      "provenance": [],
      "authorship_tag": "ABX9TyMCDO2/7luX3ColmAH5rXWl"
    },
    "kernelspec": {
      "name": "python3",
      "display_name": "Python 3"
    },
    "language_info": {
      "name": "python"
    }
  },
  "cells": [
    {
      "cell_type": "markdown",
      "metadata": {
        "id": "U_7Vdegnp8Uo"
      },
      "source": [
        "<h1>Scraping Pubchem</h1>\n",
        "\n",
        "This colab demonstrates how to scrape the pubchem website to get the information by the compound name."
      ]
    },
    {
      "cell_type": "markdown",
      "metadata": {
        "id": "xw0O_5e8pXHj"
      },
      "source": [
        "# Import"
      ]
    },
    {
      "cell_type": "code",
      "metadata": {
        "id": "JdqxTkEHd3TI"
      },
      "source": [
        "from bs4 import BeautifulSoup\n",
        "import pandas as pd\n",
        "import re\n",
        "import requests"
      ],
      "execution_count": null,
      "outputs": []
    },
    {
      "cell_type": "markdown",
      "metadata": {
        "id": "N1tpDwB0px38"
      },
      "source": [
        "# Scraping"
      ]
    },
    {
      "cell_type": "code",
      "metadata": {
        "id": "NbP6u94zhFLL"
      },
      "source": [
        "df = pd.read_csv('sheet1.csv')"
      ],
      "execution_count": null,
      "outputs": []
    },
    {
      "cell_type": "code",
      "metadata": {
        "colab": {
          "base_uri": "https://localhost:8080/"
        },
        "id": "OMQ_dLumg2P_",
        "outputId": "934bf26f-a1c3-4cdc-aacf-21dcfc2ad64a"
      },
      "source": [
        "for idx, row in df.iterrows():\n",
        "  compound_name = row['Compound Name']\n",
        "  # print(compound_name)\n",
        "  data = requests.get(f'https://pubchem.ncbi.nlm.nih.gov/rest/pug/compound/name/{compound_name}/xml')\n",
        "  html = BeautifulSoup(data.content, \"xml\")\n",
        "  html.find_all(\"PC-Urn_label\")\n",
        "  mw_tag = html.find(name=\"PC-Urn_label\", string=\"SMILES\")\n",
        "  if compound_name in ['AZD-6244%2FARRY-886', 'CHIR-258%2FTKI-258', 'VX-680%2FMK-0457', 'EXEL-2880%2FGSK-1363089', 'CHIR-265%2FRAF-265', 'VX-680/MK-0457', 'BIBF-1120 (derivative)', 'BMS-387032/SNS-032', 'CHIR-265/RAF-265', 'SU-14813', 'CHIR-258/TKI-258', 'EXEL-2880/GSK-1363089']:\n",
        "    continue\n",
        "  mw_parents = mw_tag.find_parent(\"PC-InfoData\")\n",
        "  smiles = mw_parents.find('PC-InfoData_value_sval').string\n",
        "  if smiles != row['SMILES']:\n",
        "    print(compound_name, smiles, row['SMILES'])"
      ],
      "execution_count": null,
      "outputs": [
        {
          "output_type": "stream",
          "name": "stdout",
          "text": [
            "AST-487 CCN1CCN(CC1)CC2=C(C=C(C=C2)NC(=O)NC3=CC=C(C=C3)OC4=NC=NC(=C4)NC)C(F)(F)F CCN1CCN(CC1)CC2=C(C=C(C=C2)NC(=O)NC3=CC=C(C=C3)OC4=NC=NC(=C4)NC)C(F)(F)F\n",
            "\n",
            "Crizotinib CC(C1=C(C=CC(=C1Cl)F)Cl)OC2=C(N=CC(=C2)C3=CN(N=C3)C4CCNCC4)N CC(C1=C(C=CC(=C1Cl)F)Cl)OC2=C(N=CC(=C2)C3=CN(N=C3)C4CCNCC4)N\n",
            "\n",
            "PP-242 CC(C)N1C2=NC=NC(=C2C(=N1)C3=CC4=C(N3)C=CC(=C4)O)N OC1=CC2=C(NC(C3=NN(C(C)C)C4=C3C(N)=NC=N4)=C2)C=C1\n"
          ]
        }
      ]
    },
    {
      "cell_type": "code",
      "metadata": {
        "colab": {
          "base_uri": "https://localhost:8080/"
        },
        "id": "pjtTDr8dd53J",
        "outputId": "d4674adb-6281-49a3-e968-cf0dd0034e1b"
      },
      "source": [
        "data = requests.get(\"https://pubchem.ncbi.nlm.nih.gov/rest/pug/compound/name/A-674563/xml\")\n",
        "data"
      ],
      "execution_count": null,
      "outputs": [
        {
          "output_type": "execute_result",
          "data": {
            "text/plain": [
              "<Response [200]>"
            ]
          },
          "metadata": {},
          "execution_count": 10
        }
      ]
    },
    {
      "cell_type": "code",
      "metadata": {
        "colab": {
          "base_uri": "https://localhost:8080/"
        },
        "id": "BippN8OjeAE2",
        "outputId": "533bf0d7-f72f-44a4-9a4c-d957b0c1ebcd"
      },
      "source": [
        "html = BeautifulSoup(data.content, \"xml\")\n",
        "html.find_all(\"PC-Urn_label\")\n"
      ],
      "execution_count": null,
      "outputs": [
        {
          "output_type": "execute_result",
          "data": {
            "text/plain": [
              "[<PC-Urn_label>Compound</PC-Urn_label>,\n",
              " <PC-Urn_label>Compound Complexity</PC-Urn_label>,\n",
              " <PC-Urn_label>Count</PC-Urn_label>,\n",
              " <PC-Urn_label>Count</PC-Urn_label>,\n",
              " <PC-Urn_label>Count</PC-Urn_label>,\n",
              " <PC-Urn_label>Fingerprint</PC-Urn_label>,\n",
              " <PC-Urn_label>IUPAC Name</PC-Urn_label>,\n",
              " <PC-Urn_label>IUPAC Name</PC-Urn_label>,\n",
              " <PC-Urn_label>IUPAC Name</PC-Urn_label>,\n",
              " <PC-Urn_label>IUPAC Name</PC-Urn_label>,\n",
              " <PC-Urn_label>IUPAC Name</PC-Urn_label>,\n",
              " <PC-Urn_label>IUPAC Name</PC-Urn_label>,\n",
              " <PC-Urn_label>InChI</PC-Urn_label>,\n",
              " <PC-Urn_label>InChIKey</PC-Urn_label>,\n",
              " <PC-Urn_label>Log P</PC-Urn_label>,\n",
              " <PC-Urn_label>Mass</PC-Urn_label>,\n",
              " <PC-Urn_label>Molecular Formula</PC-Urn_label>,\n",
              " <PC-Urn_label>Molecular Weight</PC-Urn_label>,\n",
              " <PC-Urn_label>SMILES</PC-Urn_label>,\n",
              " <PC-Urn_label>SMILES</PC-Urn_label>,\n",
              " <PC-Urn_label>Topological</PC-Urn_label>,\n",
              " <PC-Urn_label>Weight</PC-Urn_label>]"
            ]
          },
          "metadata": {},
          "execution_count": 11
        }
      ]
    },
    {
      "cell_type": "code",
      "metadata": {
        "colab": {
          "base_uri": "https://localhost:8080/"
        },
        "id": "7fMX4ZzIeDZd",
        "outputId": "f963d376-4680-4eda-8b0c-5d087befcd52"
      },
      "source": [
        "mw_tag = html.find(name=\"PC-Urn_label\", string=\"SMILES\")\n",
        "mw_tag"
      ],
      "execution_count": null,
      "outputs": [
        {
          "output_type": "execute_result",
          "data": {
            "text/plain": [
              "<PC-Urn_label>SMILES</PC-Urn_label>"
            ]
          },
          "metadata": {},
          "execution_count": 12
        }
      ]
    },
    {
      "cell_type": "code",
      "metadata": {
        "colab": {
          "base_uri": "https://localhost:8080/"
        },
        "id": "VZgcA94YeG3C",
        "outputId": "5f503fe4-be0e-4616-d121-0ddadaa342a4"
      },
      "source": [
        "mw_parents = mw_tag.find_parent(\"PC-InfoData\")\n",
        "mw_parents"
      ],
      "execution_count": null,
      "outputs": [
        {
          "output_type": "execute_result",
          "data": {
            "text/plain": [
              "<PC-InfoData>\n",
              "<PC-InfoData_urn>\n",
              "<PC-Urn>\n",
              "<PC-Urn_label>SMILES</PC-Urn_label>\n",
              "<PC-Urn_name>Canonical</PC-Urn_name>\n",
              "<PC-Urn_datatype>\n",
              "<PC-UrnDataType value=\"string\">1</PC-UrnDataType>\n",
              "</PC-Urn_datatype>\n",
              "<PC-Urn_version>2.3.0</PC-Urn_version>\n",
              "<PC-Urn_software>OEChem</PC-Urn_software>\n",
              "<PC-Urn_source>OpenEye Scientific Software</PC-Urn_source>\n",
              "<PC-Urn_release>2021.05.07</PC-Urn_release>\n",
              "</PC-Urn>\n",
              "</PC-InfoData_urn>\n",
              "<PC-InfoData_value>\n",
              "<PC-InfoData_value_sval>CC1=C2C=C(C=CC2=NN1)C3=CC(=CN=C3)OCC(CC4=CC=CC=C4)N</PC-InfoData_value_sval>\n",
              "</PC-InfoData_value>\n",
              "</PC-InfoData>"
            ]
          },
          "metadata": {},
          "execution_count": 15
        }
      ]
    },
    {
      "cell_type": "code",
      "metadata": {
        "colab": {
          "base_uri": "https://localhost:8080/",
          "height": 37
        },
        "id": "qL2LwEareI_I",
        "outputId": "1e7b890a-a1a7-4796-8636-46c4e892ff44"
      },
      "source": [
        "mw = mw_parents.find('PC-InfoData_value_sval').string\n",
        "mw"
      ],
      "execution_count": null,
      "outputs": [
        {
          "output_type": "execute_result",
          "data": {
            "application/vnd.google.colaboratory.intrinsic+json": {
              "type": "string"
            },
            "text/plain": [
              "'CC1=C2C=C(C=CC2=NN1)C3=CC(=CN=C3)OCC(CC4=CC=CC=C4)N'"
            ]
          },
          "metadata": {},
          "execution_count": 16
        }
      ]
    }
  ]
}